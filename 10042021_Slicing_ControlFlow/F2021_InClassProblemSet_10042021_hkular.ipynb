{
 "cells": [
  {
   "cell_type": "markdown",
   "metadata": {},
   "source": [
    "### 1) Make a list of numbers from 0 to 30 but only include every other number (counting by 2’s). Your list **should** include the number 30 (so: 0,2,4....30). Do not 'hard code' the list of numbers but instead use a function to generate the list. Then use slicing to print out the following (note: remember that start, stop, and step are the arguments in slicing):\n",
    "\n",
    "* a) Print out the first 4 numbers from the list.\n",
    "* b) Print out the last 4 numbers from the list.\n",
    "* c) Print out every other number, starting with the 3rd number and going to the end of the list\n",
    "* d) Print out the list backwards"
   ]
  },
  {
   "cell_type": "code",
   "execution_count": null,
   "metadata": {},
   "outputs": [],
   "source": [
    "# remember start, stop, step...\n",
    "#1)\n",
    "lst = list(range(0,31,2))\n",
    "print(lst)\n",
    "#1a)\n",
    "print(lst[0:5])\n",
    "#1b)\n",
    "print(lst[-5:-1])\n",
    "# 1c) \n",
    "print(lst[2::2])\n",
    "# 1d)\n",
    "print(lst[::-1])"
   ]
  },
  {
   "cell_type": "raw",
   "metadata": {},
   "source": [
    "# correct output\n",
    "[0, 2, 4, 6, 8, 10, 12, 14, 16, 18, 20, 22, 24, 26, 28, 30]\n",
    "[0, 2, 4, 6]\n",
    "[24, 26, 28, 30]\n",
    "[4, 8, 12, 16, 20, 24, 28]\n",
    "[30, 28, 26, 24, 22, 20, 18, 16, 14, 12, 10, 8, 6, 4, 2, 0]"
   ]
  },
  {
   "cell_type": "markdown",
   "metadata": {},
   "source": [
    "### 2) Make a list of numbers 0,1,2,3,4. Assign that list to the variable “lst1”. Then make another variable “lst2” and assign lst2 to take on the values of lst1.\n",
    "\n",
    "* a) Square the 3rd value in lst1 (the number '2') and make sure that the value in the list is updated.\n",
    "* b) Subtract 4 from the 4th element of lst1 and make sure that the value in the list is updated.\n",
    "* c) Test to see if the value -1 is in lst1. Is the answer True or False?\n",
    "* d) Test to see if the value 5 is not in lst1. Is the answer True or False?\n",
    "* e) Test to see if the value of the 1st element is less than 0. If it is, then print 'hi', if the number is greater than 0 print 'bye', and if the number equals zero then print 'zero'\n",
    "* f) If -1 is in lst2 then start over and follow the directions, but this time set up lst2 so that it does not change when you modify lst1."
   ]
  },
  {
   "cell_type": "code",
   "execution_count": null,
   "metadata": {},
   "outputs": [],
   "source": [
    "#2\n",
    "lst1 = list(range(0,5))\n",
    "lst2 = lst1.copy()\n",
    "#2a)\n",
    "lst1[2] = lst1[2**2]\n",
    "print(lst2)\n",
    "#2b)\n",
    "lst1[3] = lst1[3]-4\n",
    "print(lst1)\n",
    "# 2c)\n",
    "print(-1 in lst1)\n",
    "# 2d)\n",
    "print(5 not in lst1)\n",
    "# 2e)\n",
    "if lst1[0] < 0:\n",
    "    print('hi')\n",
    "elif lst1[0]>0:\n",
    "    print('bye')\n",
    "elif lst1[0] == 0:\n",
    "    print('zero')\n",
    "# 2f)\n",
    "print(lst2)"
   ]
  },
  {
   "cell_type": "raw",
   "metadata": {},
   "source": [
    "# correct output, and the last line should go to false after the last step\n",
    "[0, 2, 4, 6, 8, 10, 12, 14, 16, 18, 20, 22, 24, 26, 28, 30]\n",
    "[0, 1, 4, 3, 4]\n",
    "[0, 1, 4, -1, 4]\n",
    "True\n",
    "True\n",
    "zero\n",
    "True"
   ]
  },
  {
   "cell_type": "markdown",
   "metadata": {},
   "source": [
    "### 3) Linhui and Eena want to create and maintain a list of the kids in the neighbourhood. They also want to add the kids’ ages right after their respective names. Help Linhui and Eena with this.\n",
    "* a) Make separate lists, each containing the name of the kid as the first item and the age of the kid as the second item. Eg. kid1 = ['Sara', 12]. Make 4 such lists (and just make up a name and an age for each kid).\n",
    "* b) Linhui uses the concatenated list approach to make a master list called “concat_list” with the contents of all lists as elements of the master_list. Eg. ['Sara',\n",
    "12, 'Maya', 13.........]. Make this list for Linhui and print it. (Use lists created in part a)\n",
    "* c) Eena uses the “list in a list” approach to make the master list and calls it “list_in_list” and it looks like this : [['Sara', 12], ['Maya', 13], ........]. Make this lists-in-list for Eena and print it. (Use lists created in part a)\n",
    "* d) They revisit the lists in two years and they both must increment the age of all kids by two years now. Do this increment in both “concat_list” and “list_in_list” and print both.\n",
    "* e) They realize that one kid has left the neighbourhood. Delete one kid’s entry from both the lists and print updated lists). There has also been an addition of a new kid, Shijia (25 years old), to the neighbourhood. Add Shijia's details to both lists and print updated lists."
   ]
  },
  {
   "cell_type": "code",
   "execution_count": 34,
   "metadata": {},
   "outputs": [
    {
     "name": "stdout",
     "output_type": "stream",
     "text": [
      "['john', 43, 'sunyoung', 37, 'tim', 26, 'maggie', 22]\n",
      "[['john', 43], ['sunyoung', 37], ['tim', 26], ['maggie', 22]]\n",
      "['john', 45, 'sunyoung', 39, 'tim', 28, 'maggie', 24]\n",
      "[['john', 45], ['sunyoung', 39], ['tim', 28], ['maggie', 24]]\n",
      "['sunyoung', 39, 'tim', 28, 'maggie', 24, 'shijia', 25]\n",
      "[[['sunyoung', 39], ['tim', 28], ['maggie', 24]], ['shijia', 25]]\n"
     ]
    },
    {
     "data": {
      "text/plain": [
       "range(0, 6)"
      ]
     },
     "execution_count": 34,
     "metadata": {},
     "output_type": "execute_result"
    }
   ],
   "source": [
    "#3a)\n",
    "name1 = ['john', 43]\n",
    "name2 = ['sunyoung', 37]\n",
    "name3 = ['tim', 26]\n",
    "name4 = ['maggie', 22]\n",
    "#3b)\n",
    "concat_list = name1+name2+name3+name4\n",
    "print(concat_list)\n",
    "\n",
    "#3c)\n",
    "list_in_list = [name1, name2, name3, name4]\n",
    "print(list_in_list)\n",
    "\n",
    "# 3d) should do for loop instead\n",
    "#concat_list[1]=concat_list[1]+2\n",
    "#concat_list[3]=concat_list[3]+2\n",
    "#concat_list[5]= concat_list[5]+2\n",
    "#concat_list[7]=concat_list[7]+2\n",
    "for i in range(1,8,2):\n",
    "    concat_list[i] = concat_list[i]+2\n",
    "\n",
    "print(concat_list)\n",
    "\n",
    "#list_in_list[0][1]= list_in_list[0][1]+2\n",
    "#list_in_list[1][1]= list_in_list[1][1]+2\n",
    "#list_in_list[2][1] = list_in_list[2][1]+2\n",
    "#list_in_list[3][1]= list_in_list[3][1]+2\n",
    "for i in range(0,4,1):\n",
    "    list_in_list[i][1] = list_in_list[i][1]+2\n",
    "print(list_in_list)\n",
    "# 3e)\n",
    "concat_list = concat_list[2:] + ['shijia',25]\n",
    "print(concat_list)\n",
    "list_in_list = [list_in_list[1:], ['shijia',25]]\n",
    "print(list_in_list)\n",
    "\n"
   ]
  },
  {
   "cell_type": "raw",
   "metadata": {},
   "source": [
    "# correct output\n",
    "['john', 43, 'sunyoung', 37, 'tim', 26, 'maggie', 22]\n",
    "[['john', 43], ['sunyoung', 37], ['tim', 26], ['maggie', 22]]\n",
    "['john', 45, 'sunyoung', 39, 'tim', 28, 'maggie', 24]\n",
    "[['john', 45], ['sunyoung', 39], ['tim', 28], ['maggie', 24]]\n",
    "['sunyoung', 39, 'tim', 28, 'maggie', 24]\n",
    "[['sunyoung', 39], ['tim', 28], ['maggie', 24]]\n",
    "['sunyoung', 39, 'tim', 28, 'maggie', 24, 'Shijia', 25]\n",
    "[['sunyoung', 39], ['tim', 28], ['maggie', 24], ['Shijia', 25]]"
   ]
  },
  {
   "cell_type": "markdown",
   "metadata": {},
   "source": [
    "### 4) Imagine that you have a data set where the words are already stored in a list with each element being one word, but there is an inexplicable number of spaces at the start or end of each word. Before you can deal with the data you need to clean the spaces so your can determine the shortest word in the list. Then sort the list based on the length of the words such that the shortest word in first. \n",
    "\n",
    "**Note**: You solved this problem last week, but this week solve it using a for-loop. If you are like me, you may find this to be a more intuitive way to solve this problem. \n",
    "\n",
    "**Hint**: The sorted function has an optional argument key that you can pass a function to such that sorted uses that function to determine the order of sorting."
   ]
  },
  {
   "cell_type": "code",
   "execution_count": 49,
   "metadata": {},
   "outputs": [
    {
     "name": "stdout",
     "output_type": "stream",
     "text": [
      "['foot', 'banana', 'peanut', 'python', 'aardvark', 'xylophone']\n"
     ]
    }
   ],
   "source": [
    "words_lst = ['banana ', ' peanut  ', 'xylophone  ', 'aardvark  ', 'foot       ', 'python    ']\n",
    "\n",
    "#words = ','.join(words_lst)\n",
    "#nospace = words.replace(' ','')\n",
    "#lst = nospace.split(',')\n",
    "#srt = sorted(lst, key=len)\n",
    "#print(srt[0])\n",
    "new_lst = []\n",
    "for i in range(0,6,1):\n",
    "    words_lst[i] = words_lst[i].replace(' ','')\n",
    "words_lst = sorted(words_lst, key=len)\n",
    "print(words_lst)"
   ]
  },
  {
   "cell_type": "raw",
   "metadata": {},
   "source": [
    "['foot', 'banana', 'peanut', 'python', 'aardvark', 'xylophone']"
   ]
  },
  {
   "cell_type": "markdown",
   "metadata": {},
   "source": [
    "### 5) The pandemic is over and you are lucky enough to be a contestant on the next season of The Amazing Race. You have traversed the world over the course of the first 11 legs, succeeding in each leg. Now, as the final leg and 1,000,000 dollars is on the line, you need to be at your best and make quick time. You know the final leg will take you back to the US, as it always does, but where should you be heading?\n",
    "\n",
    "* a) You are in Sydney, Australia, where the last leg finished, but have not been told where in the US to fly to. Instead, you have been given the following clue which you must decode: *nohj iocef cmglil lhla*. It strikes you that they may have just scrambled the letters of each word. Fortunately, following the Amazing Data Analysis class you took last fall, you are a Python aficionado and are able to borrow a computer from the local library in Sydney. You think you can use Python to brute force enumerate all the permutations of each word rather than trying to come up with the words on your own. A quick Google search helped you find the *permute_str* function below on Stack Overflow. Use this function and a for loop to print all the permutations for each word. \n",
    "* b) Looking through the permutations, can you figure out what each word should be? \n",
    "* c) One of the words should give away where you should be flying to. Once you figure this out, you hurry to schedule the soonest flight there from Sydney. Where will you be heading?\n",
    "\n",
    "* ***bonus*** Make your program cooler and more human usable by reading this [post](https://readthedocs.org/projects/pyspellchecker/downloads/pdf/latest/) and then using the spell.known() method. You will first need to install pyspellchecker by opening a command window and typing: pip install pyspellchecker"
   ]
  },
  {
   "cell_type": "code",
   "execution_count": 50,
   "metadata": {},
   "outputs": [],
   "source": [
    "# run this cell to import the permutations function and to define the permute_str function\n",
    "from itertools import permutations\n",
    "\n",
    "def permute_str(s):\n",
    "    return [''.join(p) for p in permutations(s)]"
   ]
  },
  {
   "cell_type": "code",
   "execution_count": 72,
   "metadata": {},
   "outputs": [],
   "source": [
    "#5a)\n",
    "word1 = ['n','o','h','j']\n",
    "word2 = ['i','o','c','e','f']\n",
    "word3 = ['c','m','g','l','i','l']\n",
    "word4 = ['l','h','l','a']\n",
    "\n",
    "words = [word1,word2,word3,word4]\n",
    "for i in range(0,4):\n",
    "    #print(permute_str(words[i]))\n",
    "     permute_str(words[i])\n",
    " "
   ]
  },
  {
   "cell_type": "code",
   "execution_count": 93,
   "metadata": {},
   "outputs": [
    {
     "name": "stdout",
     "output_type": "stream",
     "text": [
      "{'john'}\n",
      "{'office'}\n",
      "{'mcgill'}\n",
      "{'hall'}\n"
     ]
    }
   ],
   "source": [
    "#5b) John ofice Mcgill Hall\n",
    "#5c)\n",
    "#pip install pyspellchecker\n",
    "word_opts = ['nohj','iofcef', 'cmglil','lhla']\n",
    "\n",
    "from spellchecker import SpellChecker\n",
    "spell = SpellChecker()\n",
    "\n",
    "for i in range(0,4):\n",
    "    print(spell.known(permute_str(word_opts[i])))\n",
    "    #permute_str(words[i])"
   ]
  }
 ],
 "metadata": {
  "kernelspec": {
   "display_name": "Python 3",
   "language": "python",
   "name": "python3"
  },
  "language_info": {
   "codemirror_mode": {
    "name": "ipython",
    "version": 3
   },
   "file_extension": ".py",
   "mimetype": "text/x-python",
   "name": "python",
   "nbconvert_exporter": "python",
   "pygments_lexer": "ipython3",
   "version": "3.8.8"
  }
 },
 "nbformat": 4,
 "nbformat_minor": 2
}
